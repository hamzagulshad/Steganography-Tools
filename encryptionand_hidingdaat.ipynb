{
  "nbformat": 4,
  "nbformat_minor": 0,
  "metadata": {
    "colab": {
      "provenance": [],
      "authorship_tag": "ABX9TyOGSTSoCIAxZD/WrgwofAPk",
      "include_colab_link": true
    },
    "kernelspec": {
      "name": "python3",
      "display_name": "Python 3"
    },
    "language_info": {
      "name": "python"
    }
  },
  "cells": [
    {
      "cell_type": "markdown",
      "metadata": {
        "id": "view-in-github",
        "colab_type": "text"
      },
      "source": [
        "<a href=\"https://colab.research.google.com/github/hamzagulshad/Steganography-Tools/blob/master/encryptionand_hidingdaat.ipynb\" target=\"_parent\"><img src=\"https://colab.research.google.com/assets/colab-badge.svg\" alt=\"Open In Colab\"/></a>"
      ]
    },
    {
      "cell_type": "code",
      "source": [
        "pip install aes"
      ],
      "metadata": {
        "colab": {
          "base_uri": "https://localhost:8080/"
        },
        "id": "dWqXMIzLzxkc",
        "outputId": "0e3173eb-1df1-4545-d714-ef0edf679fa9"
      },
      "execution_count": null,
      "outputs": [
        {
          "output_type": "stream",
          "name": "stdout",
          "text": [
            "Collecting aes\n",
            "  Downloading aes-1.2.0-py3-none-any.whl (13 kB)\n",
            "Installing collected packages: aes\n",
            "Successfully installed aes-1.2.0\n"
          ]
        }
      ]
    },
    {
      "cell_type": "code",
      "source": [
        "pip install pycryptodomex"
      ],
      "metadata": {
        "colab": {
          "base_uri": "https://localhost:8080/"
        },
        "id": "jpgl8M2Tz50w",
        "outputId": "7648b5bc-7c3f-4fd1-8cd6-93439b8c25d4"
      },
      "execution_count": null,
      "outputs": [
        {
          "output_type": "stream",
          "name": "stdout",
          "text": [
            "Collecting pycryptodomex\n",
            "  Downloading pycryptodomex-3.19.0-cp35-abi3-manylinux_2_17_x86_64.manylinux2014_x86_64.whl (2.1 MB)\n",
            "\u001b[2K     \u001b[90m━━━━━━━━━━━━━━━━━━━━━━━━━━━━━━━━━━━━━━━━\u001b[0m \u001b[32m2.1/2.1 MB\u001b[0m \u001b[31m18.8 MB/s\u001b[0m eta \u001b[36m0:00:00\u001b[0m\n",
            "\u001b[?25hInstalling collected packages: pycryptodomex\n",
            "Successfully installed pycryptodomex-3.19.0\n"
          ]
        }
      ]
    },
    {
      "cell_type": "code",
      "source": [
        "pip install flask\n"
      ],
      "metadata": {
        "colab": {
          "base_uri": "https://localhost:8080/"
        },
        "id": "FMzFyEJX1g4n",
        "outputId": "0542864f-1d5c-4690-bc30-f881afe4d31d"
      },
      "execution_count": null,
      "outputs": [
        {
          "output_type": "stream",
          "name": "stdout",
          "text": [
            "Requirement already satisfied: flask in /usr/local/lib/python3.10/dist-packages (2.2.5)\n",
            "Requirement already satisfied: Werkzeug>=2.2.2 in /usr/local/lib/python3.10/dist-packages (from flask) (3.0.0)\n",
            "Requirement already satisfied: Jinja2>=3.0 in /usr/local/lib/python3.10/dist-packages (from flask) (3.1.2)\n",
            "Requirement already satisfied: itsdangerous>=2.0 in /usr/local/lib/python3.10/dist-packages (from flask) (2.1.2)\n",
            "Requirement already satisfied: click>=8.0 in /usr/local/lib/python3.10/dist-packages (from flask) (8.1.7)\n",
            "Requirement already satisfied: MarkupSafe>=2.0 in /usr/local/lib/python3.10/dist-packages (from Jinja2>=3.0->flask) (2.1.3)\n"
          ]
        }
      ]
    },
    {
      "cell_type": "code",
      "source": [
        "import binascii\n",
        "from Cryptodome.Cipher import AES\n",
        "from Cryptodome import Random\n",
        "from Cryptodome.Protocol.KDF import PBKDF2\n",
        "\n",
        "def get_private_key(password):\n",
        "    salt = b\"this is a salt\"\n",
        "    kdf = PBKDF2(password, salt, 64, 1000)\n",
        "    key = kdf[:32]\n",
        "    return key\n",
        "\n",
        "def encrypt(passwrd, message):\n",
        "    msglist = []\n",
        "    key = get_private_key(passwrd)\n",
        "    iv = Random.new().read(AES.block_size)\n",
        "    cipher = AES.new(key, AES.MODE_CFB, iv)\n",
        "    msg = iv + cipher.encrypt(bytes(message, \"utf-8\"))\n",
        "    msg = binascii.hexlify(msg)\n",
        "    for letter in str(msg):\n",
        "        msglist.append(letter)\n",
        "    msglist.remove(\"b\")\n",
        "    msglist.remove(\"'\")\n",
        "    msglist.remove(\"'\")\n",
        "    encryptedMsg=\"\"\n",
        "    for letter in msglist:\n",
        "        encryptedMsg+=letter\n",
        "    return encryptedMsg\n",
        "\n",
        "def decrypt(passwrd, message):\n",
        "    msglist = []\n",
        "    key = get_private_key(passwrd)\n",
        "    iv = Random.new().read(AES.block_size)\n",
        "    cipher = AES.new(key, AES.MODE_CFB, iv)\n",
        "    msg = cipher.decrypt(binascii.unhexlify(bytes(message, \"utf-8\")))[len(iv):]\n",
        "    for letter in str(msg):\n",
        "        msglist.append(letter)\n",
        "    msglist.remove(\"b\")\n",
        "    msglist.remove(\"'\")\n",
        "    msglist.remove(\"'\")\n",
        "    decMsg=\"\"\n",
        "    for letter in msglist:\n",
        "        decMsg+=letter\n",
        "    return decMsg"
      ],
      "metadata": {
        "id": "zezUT-RK0azh"
      },
      "execution_count": null,
      "outputs": []
    },
    {
      "cell_type": "code",
      "source": [
        "from flask import Flask,request\n",
        "from flask import render_template,url_for\n",
        "\n",
        "from sender import hideFunc\n",
        "from receiver import revealFunc\n",
        "\n",
        "app = Flask(__name__)\n",
        "\n",
        "@app.route(\"/\")\n",
        "def index():\n",
        "    return render_template(\"homepage.html\")\n",
        "\n",
        "@app.route(\"/hide\",methods=['POST','GET'])\n",
        "def hide():\n",
        "    if request.method == 'POST':\n",
        "        formInfo=request.form\n",
        "        result=hideFunc(formInfo['sec_msg'],formInfo['psw'],formInfo['cvr_msg'])\n",
        "        return render_template(\"homepage.html\",result=result)\n",
        "    return render_template(\"homepage.html\")\n",
        "\n",
        "@app.route(\"/reveal\",methods=['POST','GET'])\n",
        "def reveal():\n",
        "    if request.method == 'POST':\n",
        "        formInfo=request.form\n",
        "        result_reveal=revealFunc(formInfo['steg_msg'],formInfo['psw_rev'])\n",
        "        return render_template(\"homepage.html\",result_reveal=result_reveal)\n",
        "    return render_template(\"homepage.html\")\n",
        "\n",
        "\n",
        "if __name__=='__main__':\n",
        "    app.run(debug=True)\n",
        "\n",
        "# set FLASK_ENV=development\n",
        "# set FLASK_APP=app.py"
      ],
      "metadata": {
        "colab": {
          "base_uri": "https://localhost:8080/",
          "height": 383
        },
        "id": "37egXQhS0pA0",
        "outputId": "dd12590a-8ee6-4914-b596-d4051610d497"
      },
      "execution_count": null,
      "outputs": [
        {
          "output_type": "error",
          "ename": "ModuleNotFoundError",
          "evalue": "ignored",
          "traceback": [
            "\u001b[0;31m---------------------------------------------------------------------------\u001b[0m",
            "\u001b[0;31mModuleNotFoundError\u001b[0m                       Traceback (most recent call last)",
            "\u001b[0;32m<ipython-input-11-d52bc5d3eb7e>\u001b[0m in \u001b[0;36m<cell line: 4>\u001b[0;34m()\u001b[0m\n\u001b[1;32m      2\u001b[0m \u001b[0;32mfrom\u001b[0m \u001b[0mflask\u001b[0m \u001b[0;32mimport\u001b[0m \u001b[0mrender_template\u001b[0m\u001b[0;34m,\u001b[0m\u001b[0murl_for\u001b[0m\u001b[0;34m\u001b[0m\u001b[0;34m\u001b[0m\u001b[0m\n\u001b[1;32m      3\u001b[0m \u001b[0;34m\u001b[0m\u001b[0m\n\u001b[0;32m----> 4\u001b[0;31m \u001b[0;32mfrom\u001b[0m \u001b[0msender\u001b[0m \u001b[0;32mimport\u001b[0m \u001b[0mhideFunc\u001b[0m\u001b[0;34m\u001b[0m\u001b[0;34m\u001b[0m\u001b[0m\n\u001b[0m\u001b[1;32m      5\u001b[0m \u001b[0;32mfrom\u001b[0m \u001b[0mreceiver\u001b[0m \u001b[0;32mimport\u001b[0m \u001b[0mrevealFunc\u001b[0m\u001b[0;34m\u001b[0m\u001b[0;34m\u001b[0m\u001b[0m\n\u001b[1;32m      6\u001b[0m \u001b[0;34m\u001b[0m\u001b[0m\n",
            "\u001b[0;31mModuleNotFoundError\u001b[0m: No module named 'sender'",
            "",
            "\u001b[0;31m---------------------------------------------------------------------------\u001b[0;32m\nNOTE: If your import is failing due to a missing package, you can\nmanually install dependencies using either !pip or !apt.\n\nTo view examples of installing some common dependencies, click the\n\"Open Examples\" button below.\n\u001b[0;31m---------------------------------------------------------------------------\u001b[0m\n"
          ],
          "errorDetails": {
            "actions": [
              {
                "action": "open_url",
                "actionText": "Open Examples",
                "url": "/notebooks/snippets/importing_libraries.ipynb"
              }
            ]
          }
        }
      ]
    }
  ]
}